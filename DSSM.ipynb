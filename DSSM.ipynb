{
 "cells": [
  {
   "cell_type": "markdown",
   "source": [
    "# SOLUTION\n",
    "\n",
    "Это второй ноутбук\n",
    "Здесь реализация модельки DSMM"
   ],
   "metadata": {
    "collapsed": false
   }
  },
  {
   "cell_type": "code",
   "execution_count": 196,
   "outputs": [],
   "source": [
    "import pandas as pd\n",
    "import numpy as np\n",
    "\n",
    "import pytorch_lightning as pl\n",
    "\n",
    "import torch\n",
    "import torch.nn as nn\n",
    "import torch.nn.functional as F\n",
    "import torch.utils.data as td\n",
    "\n",
    "import shutil\n",
    "\n",
    "seed = 69\n",
    "np.random.seed(seed)"
   ],
   "metadata": {
    "collapsed": false,
    "ExecuteTime": {
     "end_time": "2024-04-29T16:02:53.661024300Z",
     "start_time": "2024-04-29T16:02:53.656524800Z"
    }
   }
  },
  {
   "cell_type": "markdown",
   "source": [
    "# PREPROC\n",
    "Возьмем подготовленные данные с прошлого ноутбука"
   ],
   "metadata": {
    "collapsed": false
   }
  },
  {
   "cell_type": "code",
   "execution_count": 197,
   "outputs": [
    {
     "data": {
      "text/plain": "   rank  query_id  feature_0  feature_1  feature_2  feature_3  feature_4  \\\n0     0        10          1          0          1          3          3   \n1     1        10          3          0          3          0          3   \n2     0        10          3          0          2          0          3   \n3     1        10          3          0          3          0          3   \n4     2        10          3          0          3          1          3   \n\n   feature_5  feature_6  feature_7  ...  feature_134  feature_135  \\\n0   0.333333        0.0   0.333333  ...            0     0.000000   \n1   1.000000        0.0   1.000000  ...            0     0.000000   \n2   1.000000        0.0   0.666667  ...            0     0.000000   \n3   1.000000        0.0   1.000000  ...            0     0.000000   \n4   1.000000        0.0   1.000000  ...          273    79.670665   \n\n   feature_136  feature_137  feature_138  feature_139  feature_140  \\\n0     0.454545     0.890238     8.655534     1.000000     0.077778   \n1     0.000000     0.773976    23.130514     0.000000     0.027826   \n2     0.000000     0.918308    13.351339     0.000000     0.014925   \n3     0.000000     0.975355    18.240926     0.000000     0.053140   \n4     0.200000     0.990119    31.786048     0.333333     0.046512   \n\n   feature_141  feature_142  feature_143  \n0     0.002222            1     0.333333  \n1     0.000430           44    14.666667  \n2     0.000104           22     7.333333  \n3     0.000255            8     2.666667  \n4     0.000307           24     8.000000  \n\n[5 rows x 140 columns]",
      "text/html": "<div>\n<style scoped>\n    .dataframe tbody tr th:only-of-type {\n        vertical-align: middle;\n    }\n\n    .dataframe tbody tr th {\n        vertical-align: top;\n    }\n\n    .dataframe thead th {\n        text-align: right;\n    }\n</style>\n<table border=\"1\" class=\"dataframe\">\n  <thead>\n    <tr style=\"text-align: right;\">\n      <th></th>\n      <th>rank</th>\n      <th>query_id</th>\n      <th>feature_0</th>\n      <th>feature_1</th>\n      <th>feature_2</th>\n      <th>feature_3</th>\n      <th>feature_4</th>\n      <th>feature_5</th>\n      <th>feature_6</th>\n      <th>feature_7</th>\n      <th>...</th>\n      <th>feature_134</th>\n      <th>feature_135</th>\n      <th>feature_136</th>\n      <th>feature_137</th>\n      <th>feature_138</th>\n      <th>feature_139</th>\n      <th>feature_140</th>\n      <th>feature_141</th>\n      <th>feature_142</th>\n      <th>feature_143</th>\n    </tr>\n  </thead>\n  <tbody>\n    <tr>\n      <th>0</th>\n      <td>0</td>\n      <td>10</td>\n      <td>1</td>\n      <td>0</td>\n      <td>1</td>\n      <td>3</td>\n      <td>3</td>\n      <td>0.333333</td>\n      <td>0.0</td>\n      <td>0.333333</td>\n      <td>...</td>\n      <td>0</td>\n      <td>0.000000</td>\n      <td>0.454545</td>\n      <td>0.890238</td>\n      <td>8.655534</td>\n      <td>1.000000</td>\n      <td>0.077778</td>\n      <td>0.002222</td>\n      <td>1</td>\n      <td>0.333333</td>\n    </tr>\n    <tr>\n      <th>1</th>\n      <td>1</td>\n      <td>10</td>\n      <td>3</td>\n      <td>0</td>\n      <td>3</td>\n      <td>0</td>\n      <td>3</td>\n      <td>1.000000</td>\n      <td>0.0</td>\n      <td>1.000000</td>\n      <td>...</td>\n      <td>0</td>\n      <td>0.000000</td>\n      <td>0.000000</td>\n      <td>0.773976</td>\n      <td>23.130514</td>\n      <td>0.000000</td>\n      <td>0.027826</td>\n      <td>0.000430</td>\n      <td>44</td>\n      <td>14.666667</td>\n    </tr>\n    <tr>\n      <th>2</th>\n      <td>0</td>\n      <td>10</td>\n      <td>3</td>\n      <td>0</td>\n      <td>2</td>\n      <td>0</td>\n      <td>3</td>\n      <td>1.000000</td>\n      <td>0.0</td>\n      <td>0.666667</td>\n      <td>...</td>\n      <td>0</td>\n      <td>0.000000</td>\n      <td>0.000000</td>\n      <td>0.918308</td>\n      <td>13.351339</td>\n      <td>0.000000</td>\n      <td>0.014925</td>\n      <td>0.000104</td>\n      <td>22</td>\n      <td>7.333333</td>\n    </tr>\n    <tr>\n      <th>3</th>\n      <td>1</td>\n      <td>10</td>\n      <td>3</td>\n      <td>0</td>\n      <td>3</td>\n      <td>0</td>\n      <td>3</td>\n      <td>1.000000</td>\n      <td>0.0</td>\n      <td>1.000000</td>\n      <td>...</td>\n      <td>0</td>\n      <td>0.000000</td>\n      <td>0.000000</td>\n      <td>0.975355</td>\n      <td>18.240926</td>\n      <td>0.000000</td>\n      <td>0.053140</td>\n      <td>0.000255</td>\n      <td>8</td>\n      <td>2.666667</td>\n    </tr>\n    <tr>\n      <th>4</th>\n      <td>2</td>\n      <td>10</td>\n      <td>3</td>\n      <td>0</td>\n      <td>3</td>\n      <td>1</td>\n      <td>3</td>\n      <td>1.000000</td>\n      <td>0.0</td>\n      <td>1.000000</td>\n      <td>...</td>\n      <td>273</td>\n      <td>79.670665</td>\n      <td>0.200000</td>\n      <td>0.990119</td>\n      <td>31.786048</td>\n      <td>0.333333</td>\n      <td>0.046512</td>\n      <td>0.000307</td>\n      <td>24</td>\n      <td>8.000000</td>\n    </tr>\n  </tbody>\n</table>\n<p>5 rows × 140 columns</p>\n</div>"
     },
     "execution_count": 197,
     "metadata": {},
     "output_type": "execute_result"
    }
   ],
   "source": [
    "preproc = pd.read_csv('data/preproc.csv', index_col=0)\n",
    "preproc.head()"
   ],
   "metadata": {
    "collapsed": false,
    "ExecuteTime": {
     "end_time": "2024-04-29T16:02:56.580707Z",
     "start_time": "2024-04-29T16:02:54.473869500Z"
    }
   }
  },
  {
   "cell_type": "markdown",
   "source": [
    "# SCALING\n",
    "\n",
    "Для нейронок уже надо бы сделать скейлинг данных\n",
    "\n",
    "Есть столбцы с только целыми значениями, они потенциально могут быть категориальными, по-хорошему с категориальные величины лучше не скейлить, а добавить в модельку их эмбединги, но идея просто наудачу добавлять в модель десятки слоев эмбедингов мне не очень нравится, так что буду относиться к ним как просто числовым значениям\n",
    "и заскейлим их"
   ],
   "metadata": {
    "collapsed": false
   }
  },
  {
   "cell_type": "code",
   "execution_count": 198,
   "outputs": [],
   "source": [
    "from sklearn.preprocessing import MaxAbsScaler\n",
    "\n",
    "scaled = preproc.copy()\n",
    "scaler = MaxAbsScaler()\n",
    "\n",
    "to_scale = scaled.columns.tolist()\n",
    "to_scale.remove('query_id')\n",
    "to_scale.remove('rank')\n",
    "\n",
    "scaled[to_scale] = scaler.fit_transform(scaled[to_scale])"
   ],
   "metadata": {
    "collapsed": false,
    "ExecuteTime": {
     "end_time": "2024-04-29T16:02:59.436572900Z",
     "start_time": "2024-04-29T16:02:56.580707Z"
    }
   }
  },
  {
   "cell_type": "code",
   "execution_count": 199,
   "outputs": [
    {
     "data": {
      "text/plain": "                count          mean          std   min          25%  \\\nrank         235258.0      0.677869     0.830033   0.0     0.000000   \nquery_id     235258.0  14828.413401  8193.945170  10.0  8215.000000   \nfeature_0    235258.0      0.061676     0.039915   0.0     0.032258   \nfeature_1    235258.0      0.011457     0.032172   0.0     0.000000   \nfeature_2    235258.0      0.044068     0.038416   0.0     0.000000   \n...               ...           ...          ...   ...          ...   \nfeature_139  235258.0      0.281747     0.392089   0.0     0.000000   \nfeature_140  235258.0      0.038007     0.046890   0.0     0.009425   \nfeature_141  235258.0      0.001074     0.008352   0.0     0.000000   \nfeature_142  235258.0      0.001490     0.004226   0.0     0.000265   \nfeature_143  235258.0      0.006160     0.009244   0.0     0.001289   \n\n                      50%           75%      max  \nrank             0.000000      1.000000      4.0  \nquery_id     14935.000000  21580.000000  29995.0  \nfeature_0        0.064516      0.096774      1.0  \nfeature_1        0.000000      0.000000      1.0  \nfeature_2        0.037037      0.074074      1.0  \n...                   ...           ...      ...  \nfeature_139      0.000000      0.500000      1.0  \nfeature_140      0.024972      0.049144      1.0  \nfeature_141      0.000032      0.000436      1.0  \nfeature_142      0.000796      0.001858      1.0  \nfeature_143      0.003544      0.007732      1.0  \n\n[140 rows x 8 columns]",
      "text/html": "<div>\n<style scoped>\n    .dataframe tbody tr th:only-of-type {\n        vertical-align: middle;\n    }\n\n    .dataframe tbody tr th {\n        vertical-align: top;\n    }\n\n    .dataframe thead th {\n        text-align: right;\n    }\n</style>\n<table border=\"1\" class=\"dataframe\">\n  <thead>\n    <tr style=\"text-align: right;\">\n      <th></th>\n      <th>count</th>\n      <th>mean</th>\n      <th>std</th>\n      <th>min</th>\n      <th>25%</th>\n      <th>50%</th>\n      <th>75%</th>\n      <th>max</th>\n    </tr>\n  </thead>\n  <tbody>\n    <tr>\n      <th>rank</th>\n      <td>235258.0</td>\n      <td>0.677869</td>\n      <td>0.830033</td>\n      <td>0.0</td>\n      <td>0.000000</td>\n      <td>0.000000</td>\n      <td>1.000000</td>\n      <td>4.0</td>\n    </tr>\n    <tr>\n      <th>query_id</th>\n      <td>235258.0</td>\n      <td>14828.413401</td>\n      <td>8193.945170</td>\n      <td>10.0</td>\n      <td>8215.000000</td>\n      <td>14935.000000</td>\n      <td>21580.000000</td>\n      <td>29995.0</td>\n    </tr>\n    <tr>\n      <th>feature_0</th>\n      <td>235258.0</td>\n      <td>0.061676</td>\n      <td>0.039915</td>\n      <td>0.0</td>\n      <td>0.032258</td>\n      <td>0.064516</td>\n      <td>0.096774</td>\n      <td>1.0</td>\n    </tr>\n    <tr>\n      <th>feature_1</th>\n      <td>235258.0</td>\n      <td>0.011457</td>\n      <td>0.032172</td>\n      <td>0.0</td>\n      <td>0.000000</td>\n      <td>0.000000</td>\n      <td>0.000000</td>\n      <td>1.0</td>\n    </tr>\n    <tr>\n      <th>feature_2</th>\n      <td>235258.0</td>\n      <td>0.044068</td>\n      <td>0.038416</td>\n      <td>0.0</td>\n      <td>0.000000</td>\n      <td>0.037037</td>\n      <td>0.074074</td>\n      <td>1.0</td>\n    </tr>\n    <tr>\n      <th>...</th>\n      <td>...</td>\n      <td>...</td>\n      <td>...</td>\n      <td>...</td>\n      <td>...</td>\n      <td>...</td>\n      <td>...</td>\n      <td>...</td>\n    </tr>\n    <tr>\n      <th>feature_139</th>\n      <td>235258.0</td>\n      <td>0.281747</td>\n      <td>0.392089</td>\n      <td>0.0</td>\n      <td>0.000000</td>\n      <td>0.000000</td>\n      <td>0.500000</td>\n      <td>1.0</td>\n    </tr>\n    <tr>\n      <th>feature_140</th>\n      <td>235258.0</td>\n      <td>0.038007</td>\n      <td>0.046890</td>\n      <td>0.0</td>\n      <td>0.009425</td>\n      <td>0.024972</td>\n      <td>0.049144</td>\n      <td>1.0</td>\n    </tr>\n    <tr>\n      <th>feature_141</th>\n      <td>235258.0</td>\n      <td>0.001074</td>\n      <td>0.008352</td>\n      <td>0.0</td>\n      <td>0.000000</td>\n      <td>0.000032</td>\n      <td>0.000436</td>\n      <td>1.0</td>\n    </tr>\n    <tr>\n      <th>feature_142</th>\n      <td>235258.0</td>\n      <td>0.001490</td>\n      <td>0.004226</td>\n      <td>0.0</td>\n      <td>0.000265</td>\n      <td>0.000796</td>\n      <td>0.001858</td>\n      <td>1.0</td>\n    </tr>\n    <tr>\n      <th>feature_143</th>\n      <td>235258.0</td>\n      <td>0.006160</td>\n      <td>0.009244</td>\n      <td>0.0</td>\n      <td>0.001289</td>\n      <td>0.003544</td>\n      <td>0.007732</td>\n      <td>1.0</td>\n    </tr>\n  </tbody>\n</table>\n<p>140 rows × 8 columns</p>\n</div>"
     },
     "execution_count": 199,
     "metadata": {},
     "output_type": "execute_result"
    }
   ],
   "source": [
    "scaled.describe().transpose()"
   ],
   "metadata": {
    "collapsed": false,
    "ExecuteTime": {
     "end_time": "2024-04-29T16:03:00.253416Z",
     "start_time": "2024-04-29T16:02:59.431056900Z"
    }
   }
  },
  {
   "cell_type": "markdown",
   "source": [
    "# SPLIT\n",
    "\n",
    "разобьем данные"
   ],
   "metadata": {
    "collapsed": false
   }
  },
  {
   "cell_type": "code",
   "execution_count": 200,
   "outputs": [],
   "source": [
    "from sklearn.model_selection import train_test_split\n",
    "\n",
    "scaled_train, scaled_test = train_test_split(scaled, test_size=0.2, shuffle=True, random_state=seed)\n"
   ],
   "metadata": {
    "collapsed": false,
    "ExecuteTime": {
     "end_time": "2024-04-29T16:03:00.379127800Z",
     "start_time": "2024-04-29T16:03:00.194655200Z"
    }
   }
  },
  {
   "cell_type": "markdown",
   "source": [
    "# MODEL\n",
    "\n",
    "Идея такая: мы попытаемся обучить модель так, чтобы она создала такое векторное пространство, где вокруг представления конкретного запроса будут вектора релевантных документов\n",
    "Поэтому будем обучать с triplet loss, чтобы отталкивать негативные интеракции и приближать позитивные\n",
    "\n",
    "Выделяем позитивные и негативные примеры, берем фичи документов"
   ],
   "metadata": {
    "collapsed": false
   }
  },
  {
   "cell_type": "code",
   "execution_count": 201,
   "outputs": [],
   "source": [
    "positives = scaled_train[scaled_train['rank'] > 2].copy()\n",
    "negatives = scaled_train[scaled_train['rank'] < 2].copy()\n",
    "rank3 = scaled_train[scaled_train['rank'] == 3].copy()\n",
    "doc_features = scaled.loc[:, ~scaled_train.columns.isin(['query_id', 'rank'])]\n",
    "pos_ind = positives.index.to_series()\n"
   ],
   "metadata": {
    "collapsed": false,
    "ExecuteTime": {
     "end_time": "2024-04-29T16:03:00.484788700Z",
     "start_time": "2024-04-29T16:03:00.381128600Z"
    }
   }
  },
  {
   "cell_type": "markdown",
   "source": [
    "тут формируем тройки, где для каждого запроса выбирается позитивный пример и негативный, для попытки задания разницы между высокими рангами добавляю несколько троек, где для документа с рангом 4 негативным будет документ с рангом 3"
   ],
   "metadata": {
    "collapsed": false
   }
  },
  {
   "cell_type": "code",
   "execution_count": null,
   "outputs": [],
   "source": [
    "from random import random\n",
    "\n",
    "triplets = positives.loc[:, positives.columns.isin(['query_id'])]\n",
    "triplets['pos'] = pos_ind\n",
    "NUM_NEGATIVE_SAMPLES = 10\n",
    "triplets = pd.concat([triplets] * NUM_NEGATIVE_SAMPLES).sort_index().reset_index(drop=True)\n",
    "\n",
    "\n",
    "def fill_neg(row):\n",
    "    print()\n",
    "    if scaled_train.loc[row['pos'], 'rank'] == 4 and random() < 0.2:\n",
    "        if len(rank3[rank3['query_id'] == row['query_id']]) != 0:\n",
    "            return np.random.choice(rank3[rank3['query_id'] == row['query_id']].index)\n",
    "\n",
    "    return np.random.choice(negatives[negatives['query_id'] == row['query_id']].index)\n",
    "\n",
    "\n",
    "triplets['neg'] = triplets.apply(fill_neg, axis=1)"
   ],
   "metadata": {
    "collapsed": false
   }
  },
  {
   "cell_type": "code",
   "execution_count": 203,
   "outputs": [
    {
     "data": {
      "text/plain": "   query_id  pos  neg\n0        10   22   10\n1        10   22   15\n2        10   22   12\n3        10   22   61\n4        10   22    5",
      "text/html": "<div>\n<style scoped>\n    .dataframe tbody tr th:only-of-type {\n        vertical-align: middle;\n    }\n\n    .dataframe tbody tr th {\n        vertical-align: top;\n    }\n\n    .dataframe thead th {\n        text-align: right;\n    }\n</style>\n<table border=\"1\" class=\"dataframe\">\n  <thead>\n    <tr style=\"text-align: right;\">\n      <th></th>\n      <th>query_id</th>\n      <th>pos</th>\n      <th>neg</th>\n    </tr>\n  </thead>\n  <tbody>\n    <tr>\n      <th>0</th>\n      <td>10</td>\n      <td>22</td>\n      <td>10</td>\n    </tr>\n    <tr>\n      <th>1</th>\n      <td>10</td>\n      <td>22</td>\n      <td>15</td>\n    </tr>\n    <tr>\n      <th>2</th>\n      <td>10</td>\n      <td>22</td>\n      <td>12</td>\n    </tr>\n    <tr>\n      <th>3</th>\n      <td>10</td>\n      <td>22</td>\n      <td>61</td>\n    </tr>\n    <tr>\n      <th>4</th>\n      <td>10</td>\n      <td>22</td>\n      <td>5</td>\n    </tr>\n  </tbody>\n</table>\n</div>"
     },
     "execution_count": 203,
     "metadata": {},
     "output_type": "execute_result"
    }
   ],
   "source": [
    "triplets.head()"
   ],
   "metadata": {
    "collapsed": false,
    "ExecuteTime": {
     "end_time": "2024-04-29T16:03:12.818758900Z",
     "start_time": "2024-04-29T16:03:12.777213600Z"
    }
   }
  },
  {
   "cell_type": "code",
   "execution_count": 204,
   "outputs": [],
   "source": [
    "doc_features_n = doc_features.shape[1]"
   ],
   "metadata": {
    "collapsed": false,
    "ExecuteTime": {
     "end_time": "2024-04-29T16:03:12.819261300Z",
     "start_time": "2024-04-29T16:03:12.780213600Z"
    }
   }
  },
  {
   "cell_type": "markdown",
   "source": [
    "разбиваем на обучение и валидацию для понимания как проходит обучение"
   ],
   "metadata": {
    "collapsed": false
   }
  },
  {
   "cell_type": "code",
   "execution_count": 205,
   "outputs": [
    {
     "data": {
      "text/plain": "(38559, 9621)"
     },
     "execution_count": 205,
     "metadata": {},
     "output_type": "execute_result"
    }
   ],
   "source": [
    "rdm = np.random.random(len(triplets))\n",
    "train_data = triplets[rdm < 0.8]\n",
    "val_data = triplets[(rdm >= 0.8)]\n",
    "\n",
    "len(train_data), len(val_data)"
   ],
   "metadata": {
    "collapsed": false,
    "ExecuteTime": {
     "end_time": "2024-04-29T16:03:12.911501500Z",
     "start_time": "2024-04-29T16:03:12.818258700Z"
    }
   }
  },
  {
   "cell_type": "markdown",
   "source": [
    "Тут мы создаем фичи запроса, формируя вектора из 15 айдишников релевантных запросов"
   ],
   "metadata": {
    "collapsed": false
   }
  },
  {
   "cell_type": "code",
   "execution_count": null,
   "outputs": [],
   "source": [
    "from random import shuffle\n",
    "\n",
    "\n",
    "def pad_with_specific_value(lst, size, val):\n",
    "    lst = list(set(lst))\n",
    "    shuffle(lst)\n",
    "    lst = lst[:size]\n",
    "    print(lst)\n",
    "    return np.pad(lst, (0, size - len(lst)), 'constant', constant_values=(val))\n",
    "\n",
    "\n",
    "padded_query = triplets.groupby(\"query_id\").apply(lambda x: (\n",
    "    pad_with_specific_value(x['pos'].tolist(), 15, 300000).tolist()\n",
    "))\n",
    "\n",
    "padded_query = padded_query.reindex(range(30000), fill_value=[300000] * 15)\n",
    "padded_query = np.stack(padded_query.values)"
   ],
   "metadata": {
    "collapsed": false
   }
  },
  {
   "cell_type": "raw",
   "source": [
    "DATA"
   ],
   "metadata": {
    "collapsed": false
   }
  },
  {
   "cell_type": "code",
   "execution_count": 207,
   "outputs": [],
   "source": [
    "class DSSMData(pl.LightningDataModule):\n",
    "    def __init__(self, train_triplets, val_triplets, doc_features, padded_queries):\n",
    "        super().__init__()\n",
    "        self.train_triplets = train_triplets\n",
    "        self.val_triplets = val_triplets\n",
    "        self.doc_features = doc_features\n",
    "        self.padded_queries = padded_queries\n",
    "\n",
    "    def _collect_data(self, triplets):\n",
    "        queries = triplets[\"query_id\"].values\n",
    "        positives = triplets[\"pos\"].values\n",
    "        negatives = triplets[\"neg\"].values\n",
    "\n",
    "        # Удаляем позитивные интеракции с документами, чтобы не было даталика\n",
    "        relevant_docs = self.padded_queries[queries]\n",
    "        relevant_docs[relevant_docs == positives.reshape(-1, 1)] = 50000\n",
    "        relevant_docs[relevant_docs == negatives.reshape(-1, 1)] = 50000\n",
    "\n",
    "        return td.TensorDataset(\n",
    "            torch.from_numpy(relevant_docs).long(),\n",
    "            torch.from_numpy(self.doc_features.loc[positives].values).double(),\n",
    "            torch.from_numpy(self.doc_features.loc[negatives].values).double()\n",
    "        )\n",
    "\n",
    "    def prepare_data(self):\n",
    "        self.train_dataset = self._collect_data(self.train_triplets)\n",
    "        self.val_dataset = self._collect_data(self.val_triplets)\n",
    "\n",
    "    def train_dataloader(self):\n",
    "        return td.DataLoader(self.train_dataset, batch_size=2048, shuffle=True, num_workers=0)\n",
    "\n",
    "    def val_dataloader(self):\n",
    "        return td.DataLoader(self.val_dataset, batch_size=2048, num_workers=0)\n"
   ],
   "metadata": {
    "collapsed": false,
    "ExecuteTime": {
     "end_time": "2024-04-29T16:03:13.016081600Z",
     "start_time": "2024-04-29T16:03:12.902488300Z"
    }
   }
  },
  {
   "cell_type": "markdown",
   "source": [
    "Архитектура сеток для перевода документов и запросов в латентное представление"
   ],
   "metadata": {
    "collapsed": false
   }
  },
  {
   "cell_type": "code",
   "execution_count": 208,
   "outputs": [],
   "source": [
    "class DocNet(nn.Module):\n",
    "    def __init__(self, n_factors,\n",
    "                 activation = F.relu):\n",
    "        super().__init__()\n",
    "        self.dense_layer = nn.Linear(doc_features_n, n_factors, bias=False)\n",
    "        self.output_layer = nn.Linear(n_factors, n_factors, bias=False)\n",
    "        self.activation = activation\n",
    "\n",
    "    def forward(self, doc_features):\n",
    "        features = self.activation(self.dense_layer(doc_features))\n",
    "        output = self.output_layer(features)\n",
    "        return output\n",
    "\n",
    "\n",
    "class QueryNet(nn.Module):\n",
    "    def __init__(self, n_factors, num_embeddings,\n",
    "                 activation = F.relu):\n",
    "        super().__init__()\n",
    "        self.query_embeddings = nn.EmbeddingBag(num_embeddings + 1, n_factors, padding_idx=num_embeddings)\n",
    "        self.dense_layer = nn.Linear(n_factors, n_factors, bias=False)\n",
    "        self.output_layer = nn.Linear(n_factors + n_factors, n_factors, bias=False)\n",
    "        self.activation = activation\n",
    "\n",
    "    def forward(self, query_docs):\n",
    "        interactions_emb = self.query_embeddings(query_docs)\n",
    "        features = self.activation(self.dense_layer(interactions_emb))\n",
    "        x = torch.concat([interactions_emb, features], axis=1)\n",
    "        output = self.output_layer(x)\n",
    "        return output"
   ],
   "metadata": {
    "collapsed": false,
    "ExecuteTime": {
     "end_time": "2024-04-29T16:03:13.016081600Z",
     "start_time": "2024-04-29T16:03:12.902991800Z"
    }
   }
  },
  {
   "cell_type": "markdown",
   "source": [
    "Сама модель"
   ],
   "metadata": {
    "collapsed": false
   }
  },
  {
   "cell_type": "code",
   "execution_count": 229,
   "outputs": [],
   "source": [
    "class DSSM(pl.LightningModule):\n",
    "    def __init__(\n",
    "            self,\n",
    "            doc_number,\n",
    "            embedding_dim = 100,\n",
    "            activation = F.relu,\n",
    "            lr = 1e-3,\n",
    "            triplet_loss_margin = 0.4,\n",
    "            weight_decay= 1e-6,\n",
    "            log_to_prog_bar = True,\n",
    "    ):\n",
    "        super().__init__()\n",
    "        self.lr = lr\n",
    "        self.triplet_loss_margin = triplet_loss_margin\n",
    "        self.weight_decay = weight_decay\n",
    "        self.log_to_prog_bar = log_to_prog_bar\n",
    "        self.doc_net = DocNet(embedding_dim, activation)\n",
    "        self.query_net = QueryNet(embedding_dim, doc_number)\n",
    "\n",
    "    def forward(\n",
    "            self,\n",
    "            query_ids,\n",
    "            doc_features_pos,\n",
    "            doc_features_neg,\n",
    "    ) :\n",
    "        anchor = self.query_net(query_ids)\n",
    "        pos = self.doc_net(doc_features_pos)\n",
    "        neg = self.doc_net(doc_features_neg)\n",
    "\n",
    "        return anchor, pos, neg\n",
    "\n",
    "    def _step(self, batch, batch_idx, metric, prog_bar=False):\n",
    "        query_ids, pos, neg = batch\n",
    "        anchor, positive, negative = self(query_ids, pos, neg)\n",
    "        loss = F.triplet_margin_loss(anchor, positive, negative, margin=self.triplet_loss_margin)\n",
    "        self.log(metric, loss, prog_bar=prog_bar)\n",
    "        return loss\n",
    "\n",
    "    def training_step(self, batch, batch_idx):\n",
    "        return self._step(batch, batch_idx, \"train_loss\")\n",
    "\n",
    "    def validation_step(self, batch, batch_idx):\n",
    "        return self._step(batch, batch_idx, \"val_loss\", self.log_to_prog_bar)\n",
    "\n",
    "    def inference(self, dataloader, mode = \"doc\"):\n",
    "        batches = []\n",
    "        query_ids = []\n",
    "        if (mode == \"query\"):\n",
    "            model = self.query_net\n",
    "        elif (mode == \"doc\"):\n",
    "            model = self.doc_net\n",
    "        else:\n",
    "            raise ValueError(f\"Unsupported model {mode}!\")\n",
    "\n",
    "        self.eval()\n",
    "        for batch in dataloader:\n",
    "            ids, features = batch\n",
    "            with torch.no_grad():\n",
    "                v_batch = model(features.to(self.device))\n",
    "            batches.append(v_batch)\n",
    "            query_ids.append(ids)\n",
    "        vectors = torch.cat(batches, dim=0).cpu().numpy()\n",
    "        vectors_ids = torch.cat(query_ids, dim=0).cpu().numpy()\n",
    "        return vectors_ids, vectors\n",
    "\n",
    "    def configure_optimizers(self):\n",
    "        optimizer = torch.optim.Adam(self.parameters(), lr=self.lr, weight_decay=self.weight_decay)\n",
    "        lr_scheduler = torch.optim.lr_scheduler.ReduceLROnPlateau(optimizer, patience=3, verbose=True)\n",
    "        scheduler = {\n",
    "            'scheduler': lr_scheduler,\n",
    "            'monitor': 'val_loss'\n",
    "        }\n",
    "        return [optimizer], [scheduler]"
   ],
   "metadata": {
    "collapsed": false,
    "ExecuteTime": {
     "end_time": "2024-04-29T16:06:45.562567200Z",
     "start_time": "2024-04-29T16:06:45.550058800Z"
    }
   }
  },
  {
   "cell_type": "markdown",
   "source": [
    "# FIT\n",
    "\n",
    "Собираем модель и начинаем обучать"
   ],
   "metadata": {
    "collapsed": false
   }
  },
  {
   "cell_type": "code",
   "execution_count": 230,
   "outputs": [
    {
     "name": "stderr",
     "output_type": "stream",
     "text": [
      "GPU available: True (cuda), used: True\n",
      "TPU available: False, using: 0 TPU cores\n",
      "IPU available: False, using: 0 IPUs\n",
      "HPU available: False, using: 0 HPUs\n"
     ]
    }
   ],
   "source": [
    "data_module = DSSMData(train_data, val_data, doc_features, padded_query)\n",
    "net = DSSM(doc_number=300000, embedding_dim=64).double()\n",
    "\n",
    "checkpoint_callback = pl.callbacks.ModelCheckpoint(monitor=\"val_loss\")\n",
    "\n",
    "trainer = pl.Trainer(\n",
    "    max_epochs=100,\n",
    "    accelerator='gpu',\n",
    "    devices=1,\n",
    "    callbacks=[\n",
    "        pl.callbacks.early_stopping.EarlyStopping(monitor=\"val_loss\", patience=5),\n",
    "        pl.callbacks.LearningRateMonitor(logging_interval=\"step\"),\n",
    "        checkpoint_callback,\n",
    "    ])"
   ],
   "metadata": {
    "collapsed": false,
    "ExecuteTime": {
     "end_time": "2024-04-29T16:06:47.329366900Z",
     "start_time": "2024-04-29T16:06:47.162130300Z"
    }
   }
  },
  {
   "cell_type": "code",
   "execution_count": 231,
   "outputs": [
    {
     "name": "stderr",
     "output_type": "stream",
     "text": [
      "LOCAL_RANK: 0 - CUDA_VISIBLE_DEVICES: [0]\n",
      "\n",
      "  | Name      | Type     | Params\n",
      "---------------------------------------\n",
      "0 | doc_net   | DocNet   | 12.9 K\n",
      "1 | query_net | QueryNet | 19.2 M\n",
      "---------------------------------------\n",
      "19.2 M    Trainable params\n",
      "0         Non-trainable params\n",
      "19.2 M    Total params\n",
      "76.901    Total estimated model params size (MB)\n"
     ]
    },
    {
     "data": {
      "text/plain": "Sanity Checking: 0it [00:00, ?it/s]",
      "application/vnd.jupyter.widget-view+json": {
       "version_major": 2,
       "version_minor": 0,
       "model_id": "84037fdbcf1a422f84808a3dd602a199"
      }
     },
     "metadata": {},
     "output_type": "display_data"
    },
    {
     "name": "stderr",
     "output_type": "stream",
     "text": [
      "/home/chipch1n/.local/lib/python3.10/site-packages/pytorch_lightning/trainer/connectors/data_connector.py:442: PossibleUserWarning: The dataloader, val_dataloader, does not have many workers which may be a bottleneck. Consider increasing the value of the `num_workers` argument` (try 32 which is the number of cpus on this machine) in the `DataLoader` init to improve performance.\n",
      "  rank_zero_warn(\n",
      "/home/chipch1n/.local/lib/python3.10/site-packages/pytorch_lightning/trainer/connectors/data_connector.py:442: PossibleUserWarning: The dataloader, train_dataloader, does not have many workers which may be a bottleneck. Consider increasing the value of the `num_workers` argument` (try 32 which is the number of cpus on this machine) in the `DataLoader` init to improve performance.\n",
      "  rank_zero_warn(\n",
      "/home/chipch1n/.local/lib/python3.10/site-packages/pytorch_lightning/loops/fit_loop.py:281: PossibleUserWarning: The number of training batches (19) is smaller than the logging interval Trainer(log_every_n_steps=50). Set a lower value for log_every_n_steps if you want to see logs for the training epoch.\n",
      "  rank_zero_warn(\n"
     ]
    },
    {
     "data": {
      "text/plain": "Training: 0it [00:00, ?it/s]",
      "application/vnd.jupyter.widget-view+json": {
       "version_major": 2,
       "version_minor": 0,
       "model_id": "56597cc9b207449094bd50f8dce0ca49"
      }
     },
     "metadata": {},
     "output_type": "display_data"
    },
    {
     "data": {
      "text/plain": "Validation: 0it [00:00, ?it/s]",
      "application/vnd.jupyter.widget-view+json": {
       "version_major": 2,
       "version_minor": 0,
       "model_id": "c597bf8a76ea4eef804232694ef466a4"
      }
     },
     "metadata": {},
     "output_type": "display_data"
    },
    {
     "data": {
      "text/plain": "Validation: 0it [00:00, ?it/s]",
      "application/vnd.jupyter.widget-view+json": {
       "version_major": 2,
       "version_minor": 0,
       "model_id": "7970a5391d8848f694a8e13288258cc6"
      }
     },
     "metadata": {},
     "output_type": "display_data"
    },
    {
     "data": {
      "text/plain": "Validation: 0it [00:00, ?it/s]",
      "application/vnd.jupyter.widget-view+json": {
       "version_major": 2,
       "version_minor": 0,
       "model_id": "f36fe524aedd4779800293c1452251bb"
      }
     },
     "metadata": {},
     "output_type": "display_data"
    },
    {
     "data": {
      "text/plain": "Validation: 0it [00:00, ?it/s]",
      "application/vnd.jupyter.widget-view+json": {
       "version_major": 2,
       "version_minor": 0,
       "model_id": "b3fc7c1c87c9477a8d743fded57424d2"
      }
     },
     "metadata": {},
     "output_type": "display_data"
    },
    {
     "data": {
      "text/plain": "Validation: 0it [00:00, ?it/s]",
      "application/vnd.jupyter.widget-view+json": {
       "version_major": 2,
       "version_minor": 0,
       "model_id": "a2f5986c71a4405ba5807b4c71344940"
      }
     },
     "metadata": {},
     "output_type": "display_data"
    },
    {
     "data": {
      "text/plain": "Validation: 0it [00:00, ?it/s]",
      "application/vnd.jupyter.widget-view+json": {
       "version_major": 2,
       "version_minor": 0,
       "model_id": "cb16c331b0184e7ebbbce7e87ddb87a1"
      }
     },
     "metadata": {},
     "output_type": "display_data"
    },
    {
     "data": {
      "text/plain": "Validation: 0it [00:00, ?it/s]",
      "application/vnd.jupyter.widget-view+json": {
       "version_major": 2,
       "version_minor": 0,
       "model_id": "30238a38ee73498997ca4c5d7f4c63a4"
      }
     },
     "metadata": {},
     "output_type": "display_data"
    },
    {
     "data": {
      "text/plain": "Validation: 0it [00:00, ?it/s]",
      "application/vnd.jupyter.widget-view+json": {
       "version_major": 2,
       "version_minor": 0,
       "model_id": "cb8ec38cbada4672b30db170c68ac1aa"
      }
     },
     "metadata": {},
     "output_type": "display_data"
    },
    {
     "data": {
      "text/plain": "Validation: 0it [00:00, ?it/s]",
      "application/vnd.jupyter.widget-view+json": {
       "version_major": 2,
       "version_minor": 0,
       "model_id": "e09ac36ea302499ca0d1466cdcb91b0a"
      }
     },
     "metadata": {},
     "output_type": "display_data"
    },
    {
     "data": {
      "text/plain": "Validation: 0it [00:00, ?it/s]",
      "application/vnd.jupyter.widget-view+json": {
       "version_major": 2,
       "version_minor": 0,
       "model_id": "4a6068936ea14eb3875ff9f25b1eab1f"
      }
     },
     "metadata": {},
     "output_type": "display_data"
    },
    {
     "data": {
      "text/plain": "Validation: 0it [00:00, ?it/s]",
      "application/vnd.jupyter.widget-view+json": {
       "version_major": 2,
       "version_minor": 0,
       "model_id": "3e01cc59634247e096fab141a5acac7a"
      }
     },
     "metadata": {},
     "output_type": "display_data"
    },
    {
     "data": {
      "text/plain": "Validation: 0it [00:00, ?it/s]",
      "application/vnd.jupyter.widget-view+json": {
       "version_major": 2,
       "version_minor": 0,
       "model_id": "ab1077d2441f40b48a486afa149565fc"
      }
     },
     "metadata": {},
     "output_type": "display_data"
    },
    {
     "data": {
      "text/plain": "Validation: 0it [00:00, ?it/s]",
      "application/vnd.jupyter.widget-view+json": {
       "version_major": 2,
       "version_minor": 0,
       "model_id": "a8848ba203a14730b7e6c72b179cc4f3"
      }
     },
     "metadata": {},
     "output_type": "display_data"
    },
    {
     "data": {
      "text/plain": "Validation: 0it [00:00, ?it/s]",
      "application/vnd.jupyter.widget-view+json": {
       "version_major": 2,
       "version_minor": 0,
       "model_id": "e858d6913f944ea2a01b092af4c3f6db"
      }
     },
     "metadata": {},
     "output_type": "display_data"
    },
    {
     "data": {
      "text/plain": "Validation: 0it [00:00, ?it/s]",
      "application/vnd.jupyter.widget-view+json": {
       "version_major": 2,
       "version_minor": 0,
       "model_id": "3cb82af1a32a4b85a06edc01f4a1f46c"
      }
     },
     "metadata": {},
     "output_type": "display_data"
    },
    {
     "data": {
      "text/plain": "Validation: 0it [00:00, ?it/s]",
      "application/vnd.jupyter.widget-view+json": {
       "version_major": 2,
       "version_minor": 0,
       "model_id": "6257bf60d2ca4dce94f268a916ccc533"
      }
     },
     "metadata": {},
     "output_type": "display_data"
    },
    {
     "data": {
      "text/plain": "Validation: 0it [00:00, ?it/s]",
      "application/vnd.jupyter.widget-view+json": {
       "version_major": 2,
       "version_minor": 0,
       "model_id": "e7c4f91507d041a9b4a2a38e435b8053"
      }
     },
     "metadata": {},
     "output_type": "display_data"
    },
    {
     "data": {
      "text/plain": "Validation: 0it [00:00, ?it/s]",
      "application/vnd.jupyter.widget-view+json": {
       "version_major": 2,
       "version_minor": 0,
       "model_id": "4e853c9521dd4127b89bd050676f125e"
      }
     },
     "metadata": {},
     "output_type": "display_data"
    },
    {
     "data": {
      "text/plain": "Validation: 0it [00:00, ?it/s]",
      "application/vnd.jupyter.widget-view+json": {
       "version_major": 2,
       "version_minor": 0,
       "model_id": "4243dd21b4794efba258522af0b272dc"
      }
     },
     "metadata": {},
     "output_type": "display_data"
    },
    {
     "data": {
      "text/plain": "Validation: 0it [00:00, ?it/s]",
      "application/vnd.jupyter.widget-view+json": {
       "version_major": 2,
       "version_minor": 0,
       "model_id": "03199ca737b84d8086284289cc1a5155"
      }
     },
     "metadata": {},
     "output_type": "display_data"
    },
    {
     "data": {
      "text/plain": "Validation: 0it [00:00, ?it/s]",
      "application/vnd.jupyter.widget-view+json": {
       "version_major": 2,
       "version_minor": 0,
       "model_id": "c3c0d1a3e1ed45939cb61bbc4178486a"
      }
     },
     "metadata": {},
     "output_type": "display_data"
    },
    {
     "data": {
      "text/plain": "Validation: 0it [00:00, ?it/s]",
      "application/vnd.jupyter.widget-view+json": {
       "version_major": 2,
       "version_minor": 0,
       "model_id": "28099995aefd49b1bf3b76a50bf7f8f6"
      }
     },
     "metadata": {},
     "output_type": "display_data"
    },
    {
     "data": {
      "text/plain": "Validation: 0it [00:00, ?it/s]",
      "application/vnd.jupyter.widget-view+json": {
       "version_major": 2,
       "version_minor": 0,
       "model_id": "c49aa52392664ec6881db0246dfde0f5"
      }
     },
     "metadata": {},
     "output_type": "display_data"
    },
    {
     "data": {
      "text/plain": "Validation: 0it [00:00, ?it/s]",
      "application/vnd.jupyter.widget-view+json": {
       "version_major": 2,
       "version_minor": 0,
       "model_id": "c03e65f37c2941ac88dc9f150e4cd046"
      }
     },
     "metadata": {},
     "output_type": "display_data"
    },
    {
     "data": {
      "text/plain": "Validation: 0it [00:00, ?it/s]",
      "application/vnd.jupyter.widget-view+json": {
       "version_major": 2,
       "version_minor": 0,
       "model_id": "03178edaff384e23ac5d29bf45f3ccba"
      }
     },
     "metadata": {},
     "output_type": "display_data"
    },
    {
     "data": {
      "text/plain": "Validation: 0it [00:00, ?it/s]",
      "application/vnd.jupyter.widget-view+json": {
       "version_major": 2,
       "version_minor": 0,
       "model_id": "0453f01317e643059f76653ab5300499"
      }
     },
     "metadata": {},
     "output_type": "display_data"
    },
    {
     "data": {
      "text/plain": "Validation: 0it [00:00, ?it/s]",
      "application/vnd.jupyter.widget-view+json": {
       "version_major": 2,
       "version_minor": 0,
       "model_id": "1425b475e91047b6879afa0c98592666"
      }
     },
     "metadata": {},
     "output_type": "display_data"
    },
    {
     "data": {
      "text/plain": "Validation: 0it [00:00, ?it/s]",
      "application/vnd.jupyter.widget-view+json": {
       "version_major": 2,
       "version_minor": 0,
       "model_id": "eecda7050dac4763b4ea11603a20d08d"
      }
     },
     "metadata": {},
     "output_type": "display_data"
    },
    {
     "data": {
      "text/plain": "Validation: 0it [00:00, ?it/s]",
      "application/vnd.jupyter.widget-view+json": {
       "version_major": 2,
       "version_minor": 0,
       "model_id": "4aef1fb0a20d4883afa2e06c21101a33"
      }
     },
     "metadata": {},
     "output_type": "display_data"
    },
    {
     "data": {
      "text/plain": "Validation: 0it [00:00, ?it/s]",
      "application/vnd.jupyter.widget-view+json": {
       "version_major": 2,
       "version_minor": 0,
       "model_id": "342b73103b9d42c192b993f9392f7d88"
      }
     },
     "metadata": {},
     "output_type": "display_data"
    },
    {
     "data": {
      "text/plain": "Validation: 0it [00:00, ?it/s]",
      "application/vnd.jupyter.widget-view+json": {
       "version_major": 2,
       "version_minor": 0,
       "model_id": "aca316623e5f46a28d164d05fb1eb377"
      }
     },
     "metadata": {},
     "output_type": "display_data"
    },
    {
     "data": {
      "text/plain": "Validation: 0it [00:00, ?it/s]",
      "application/vnd.jupyter.widget-view+json": {
       "version_major": 2,
       "version_minor": 0,
       "model_id": "94867bb215fd440190f78082b5f0e669"
      }
     },
     "metadata": {},
     "output_type": "display_data"
    },
    {
     "data": {
      "text/plain": "Validation: 0it [00:00, ?it/s]",
      "application/vnd.jupyter.widget-view+json": {
       "version_major": 2,
       "version_minor": 0,
       "model_id": "3ebd25f3232e4a59aca87bf9bd4d9423"
      }
     },
     "metadata": {},
     "output_type": "display_data"
    },
    {
     "data": {
      "text/plain": "Validation: 0it [00:00, ?it/s]",
      "application/vnd.jupyter.widget-view+json": {
       "version_major": 2,
       "version_minor": 0,
       "model_id": "9be853ac8ff349bc8031ad5169015cd2"
      }
     },
     "metadata": {},
     "output_type": "display_data"
    },
    {
     "data": {
      "text/plain": "Validation: 0it [00:00, ?it/s]",
      "application/vnd.jupyter.widget-view+json": {
       "version_major": 2,
       "version_minor": 0,
       "model_id": "651ee1c5fc6e4ee0bf56fb4795e0d1a9"
      }
     },
     "metadata": {},
     "output_type": "display_data"
    },
    {
     "data": {
      "text/plain": "Validation: 0it [00:00, ?it/s]",
      "application/vnd.jupyter.widget-view+json": {
       "version_major": 2,
       "version_minor": 0,
       "model_id": "e8e3cff09bc144c9a08e08d32b811a35"
      }
     },
     "metadata": {},
     "output_type": "display_data"
    },
    {
     "data": {
      "text/plain": "Validation: 0it [00:00, ?it/s]",
      "application/vnd.jupyter.widget-view+json": {
       "version_major": 2,
       "version_minor": 0,
       "model_id": "3bdae9ada1a9471ea359d2338028aff5"
      }
     },
     "metadata": {},
     "output_type": "display_data"
    },
    {
     "data": {
      "text/plain": "Validation: 0it [00:00, ?it/s]",
      "application/vnd.jupyter.widget-view+json": {
       "version_major": 2,
       "version_minor": 0,
       "model_id": "0b25843d7030437894da0e4352828627"
      }
     },
     "metadata": {},
     "output_type": "display_data"
    },
    {
     "data": {
      "text/plain": "Validation: 0it [00:00, ?it/s]",
      "application/vnd.jupyter.widget-view+json": {
       "version_major": 2,
       "version_minor": 0,
       "model_id": "1df1a9770a304284b0e2dfe91ec93c6a"
      }
     },
     "metadata": {},
     "output_type": "display_data"
    },
    {
     "data": {
      "text/plain": "Validation: 0it [00:00, ?it/s]",
      "application/vnd.jupyter.widget-view+json": {
       "version_major": 2,
       "version_minor": 0,
       "model_id": "1bcf9158f7b24925b6243dccf9430425"
      }
     },
     "metadata": {},
     "output_type": "display_data"
    },
    {
     "data": {
      "text/plain": "Validation: 0it [00:00, ?it/s]",
      "application/vnd.jupyter.widget-view+json": {
       "version_major": 2,
       "version_minor": 0,
       "model_id": "1788118a8e314d14bc2fed4c5ca537ae"
      }
     },
     "metadata": {},
     "output_type": "display_data"
    },
    {
     "data": {
      "text/plain": "Validation: 0it [00:00, ?it/s]",
      "application/vnd.jupyter.widget-view+json": {
       "version_major": 2,
       "version_minor": 0,
       "model_id": "4a44554b0f7b499f92d9ab8fde93a8db"
      }
     },
     "metadata": {},
     "output_type": "display_data"
    },
    {
     "data": {
      "text/plain": "Validation: 0it [00:00, ?it/s]",
      "application/vnd.jupyter.widget-view+json": {
       "version_major": 2,
       "version_minor": 0,
       "model_id": "747febb6aff54d2889fb17080f5f4ab5"
      }
     },
     "metadata": {},
     "output_type": "display_data"
    },
    {
     "data": {
      "text/plain": "Validation: 0it [00:00, ?it/s]",
      "application/vnd.jupyter.widget-view+json": {
       "version_major": 2,
       "version_minor": 0,
       "model_id": "d630858b9b824f3e8da585132a5df109"
      }
     },
     "metadata": {},
     "output_type": "display_data"
    },
    {
     "data": {
      "text/plain": "Validation: 0it [00:00, ?it/s]",
      "application/vnd.jupyter.widget-view+json": {
       "version_major": 2,
       "version_minor": 0,
       "model_id": "cc4a2a0a56e64490b9345b8eba330e13"
      }
     },
     "metadata": {},
     "output_type": "display_data"
    },
    {
     "data": {
      "text/plain": "Validation: 0it [00:00, ?it/s]",
      "application/vnd.jupyter.widget-view+json": {
       "version_major": 2,
       "version_minor": 0,
       "model_id": "92a34023254742d7b1f877be4c218449"
      }
     },
     "metadata": {},
     "output_type": "display_data"
    },
    {
     "data": {
      "text/plain": "Validation: 0it [00:00, ?it/s]",
      "application/vnd.jupyter.widget-view+json": {
       "version_major": 2,
       "version_minor": 0,
       "model_id": "ab90a6bed8984736b7864730d1facac7"
      }
     },
     "metadata": {},
     "output_type": "display_data"
    },
    {
     "data": {
      "text/plain": "Validation: 0it [00:00, ?it/s]",
      "application/vnd.jupyter.widget-view+json": {
       "version_major": 2,
       "version_minor": 0,
       "model_id": "1cecd0891f85415e86f5c1a324332b3e"
      }
     },
     "metadata": {},
     "output_type": "display_data"
    },
    {
     "data": {
      "text/plain": "Validation: 0it [00:00, ?it/s]",
      "application/vnd.jupyter.widget-view+json": {
       "version_major": 2,
       "version_minor": 0,
       "model_id": "b018ba38e7b740a689af7ea49c4a534f"
      }
     },
     "metadata": {},
     "output_type": "display_data"
    },
    {
     "data": {
      "text/plain": "Validation: 0it [00:00, ?it/s]",
      "application/vnd.jupyter.widget-view+json": {
       "version_major": 2,
       "version_minor": 0,
       "model_id": "39f49d04b8aa4b54acd4c50e2a814d0b"
      }
     },
     "metadata": {},
     "output_type": "display_data"
    },
    {
     "data": {
      "text/plain": "Validation: 0it [00:00, ?it/s]",
      "application/vnd.jupyter.widget-view+json": {
       "version_major": 2,
       "version_minor": 0,
       "model_id": "fd03d8f113a34830ad79bb3d523439aa"
      }
     },
     "metadata": {},
     "output_type": "display_data"
    },
    {
     "data": {
      "text/plain": "Validation: 0it [00:00, ?it/s]",
      "application/vnd.jupyter.widget-view+json": {
       "version_major": 2,
       "version_minor": 0,
       "model_id": "1bc2e26ecee242538bfa37536b0add6a"
      }
     },
     "metadata": {},
     "output_type": "display_data"
    },
    {
     "data": {
      "text/plain": "Validation: 0it [00:00, ?it/s]",
      "application/vnd.jupyter.widget-view+json": {
       "version_major": 2,
       "version_minor": 0,
       "model_id": "ba998f71cc1e4526ad7144dd6a1071d2"
      }
     },
     "metadata": {},
     "output_type": "display_data"
    },
    {
     "data": {
      "text/plain": "Validation: 0it [00:00, ?it/s]",
      "application/vnd.jupyter.widget-view+json": {
       "version_major": 2,
       "version_minor": 0,
       "model_id": "70706234af4d4599911b05a9c4520077"
      }
     },
     "metadata": {},
     "output_type": "display_data"
    },
    {
     "data": {
      "text/plain": "Validation: 0it [00:00, ?it/s]",
      "application/vnd.jupyter.widget-view+json": {
       "version_major": 2,
       "version_minor": 0,
       "model_id": "a8eb829c53af41e291511765548e1777"
      }
     },
     "metadata": {},
     "output_type": "display_data"
    },
    {
     "data": {
      "text/plain": "Validation: 0it [00:00, ?it/s]",
      "application/vnd.jupyter.widget-view+json": {
       "version_major": 2,
       "version_minor": 0,
       "model_id": "6b0b42a178954bbf8a8149cb67526937"
      }
     },
     "metadata": {},
     "output_type": "display_data"
    },
    {
     "data": {
      "text/plain": "Validation: 0it [00:00, ?it/s]",
      "application/vnd.jupyter.widget-view+json": {
       "version_major": 2,
       "version_minor": 0,
       "model_id": "063b4b49e8f64e06a61f0ab9c3cca186"
      }
     },
     "metadata": {},
     "output_type": "display_data"
    },
    {
     "data": {
      "text/plain": "Validation: 0it [00:00, ?it/s]",
      "application/vnd.jupyter.widget-view+json": {
       "version_major": 2,
       "version_minor": 0,
       "model_id": "81819b292bec44d9876554b8390c676e"
      }
     },
     "metadata": {},
     "output_type": "display_data"
    },
    {
     "data": {
      "text/plain": "Validation: 0it [00:00, ?it/s]",
      "application/vnd.jupyter.widget-view+json": {
       "version_major": 2,
       "version_minor": 0,
       "model_id": "712142cc4fbc4aa886413d529f7b97a5"
      }
     },
     "metadata": {},
     "output_type": "display_data"
    },
    {
     "data": {
      "text/plain": "Validation: 0it [00:00, ?it/s]",
      "application/vnd.jupyter.widget-view+json": {
       "version_major": 2,
       "version_minor": 0,
       "model_id": "d87ccdedc39c4742b3f1a415e52e6995"
      }
     },
     "metadata": {},
     "output_type": "display_data"
    },
    {
     "data": {
      "text/plain": "Validation: 0it [00:00, ?it/s]",
      "application/vnd.jupyter.widget-view+json": {
       "version_major": 2,
       "version_minor": 0,
       "model_id": "21da7f137b8d4324ac3ae88e6f34ca68"
      }
     },
     "metadata": {},
     "output_type": "display_data"
    },
    {
     "data": {
      "text/plain": "Validation: 0it [00:00, ?it/s]",
      "application/vnd.jupyter.widget-view+json": {
       "version_major": 2,
       "version_minor": 0,
       "model_id": "03292e525ddf4f9cb38de914213f44d8"
      }
     },
     "metadata": {},
     "output_type": "display_data"
    },
    {
     "data": {
      "text/plain": "Validation: 0it [00:00, ?it/s]",
      "application/vnd.jupyter.widget-view+json": {
       "version_major": 2,
       "version_minor": 0,
       "model_id": "5355b5f032814d5a980da0f950500132"
      }
     },
     "metadata": {},
     "output_type": "display_data"
    },
    {
     "data": {
      "text/plain": "Validation: 0it [00:00, ?it/s]",
      "application/vnd.jupyter.widget-view+json": {
       "version_major": 2,
       "version_minor": 0,
       "model_id": "13537d27e5c14491aafc3715c841a99d"
      }
     },
     "metadata": {},
     "output_type": "display_data"
    },
    {
     "data": {
      "text/plain": "Validation: 0it [00:00, ?it/s]",
      "application/vnd.jupyter.widget-view+json": {
       "version_major": 2,
       "version_minor": 0,
       "model_id": "0487f5f201a04ddca6866f05b77b4952"
      }
     },
     "metadata": {},
     "output_type": "display_data"
    },
    {
     "data": {
      "text/plain": "Validation: 0it [00:00, ?it/s]",
      "application/vnd.jupyter.widget-view+json": {
       "version_major": 2,
       "version_minor": 0,
       "model_id": "14085118ef004e8a995b04c9e601bcdd"
      }
     },
     "metadata": {},
     "output_type": "display_data"
    },
    {
     "data": {
      "text/plain": "Validation: 0it [00:00, ?it/s]",
      "application/vnd.jupyter.widget-view+json": {
       "version_major": 2,
       "version_minor": 0,
       "model_id": "8251e2adbf3840ca92881b55719000b7"
      }
     },
     "metadata": {},
     "output_type": "display_data"
    },
    {
     "data": {
      "text/plain": "Validation: 0it [00:00, ?it/s]",
      "application/vnd.jupyter.widget-view+json": {
       "version_major": 2,
       "version_minor": 0,
       "model_id": "aedd42ab422c419984d40cc4e2dbdd8f"
      }
     },
     "metadata": {},
     "output_type": "display_data"
    },
    {
     "data": {
      "text/plain": "Validation: 0it [00:00, ?it/s]",
      "application/vnd.jupyter.widget-view+json": {
       "version_major": 2,
       "version_minor": 0,
       "model_id": "977a0b5840394e86ba1b9703a9693587"
      }
     },
     "metadata": {},
     "output_type": "display_data"
    },
    {
     "data": {
      "text/plain": "Validation: 0it [00:00, ?it/s]",
      "application/vnd.jupyter.widget-view+json": {
       "version_major": 2,
       "version_minor": 0,
       "model_id": "9e2736fcdd7744d29625699489e0d2fb"
      }
     },
     "metadata": {},
     "output_type": "display_data"
    },
    {
     "data": {
      "text/plain": "Validation: 0it [00:00, ?it/s]",
      "application/vnd.jupyter.widget-view+json": {
       "version_major": 2,
       "version_minor": 0,
       "model_id": "b62afc9a4ee24fd1a9411c47dd5ae410"
      }
     },
     "metadata": {},
     "output_type": "display_data"
    },
    {
     "data": {
      "text/plain": "Validation: 0it [00:00, ?it/s]",
      "application/vnd.jupyter.widget-view+json": {
       "version_major": 2,
       "version_minor": 0,
       "model_id": "d52ca4a4586c4675ac81128cb60492a7"
      }
     },
     "metadata": {},
     "output_type": "display_data"
    },
    {
     "data": {
      "text/plain": "Validation: 0it [00:00, ?it/s]",
      "application/vnd.jupyter.widget-view+json": {
       "version_major": 2,
       "version_minor": 0,
       "model_id": "c3084aa3d2e149ebad49f7682a40de93"
      }
     },
     "metadata": {},
     "output_type": "display_data"
    },
    {
     "data": {
      "text/plain": "Validation: 0it [00:00, ?it/s]",
      "application/vnd.jupyter.widget-view+json": {
       "version_major": 2,
       "version_minor": 0,
       "model_id": "c19a12e069224681b6f4a88320afba8f"
      }
     },
     "metadata": {},
     "output_type": "display_data"
    },
    {
     "data": {
      "text/plain": "Validation: 0it [00:00, ?it/s]",
      "application/vnd.jupyter.widget-view+json": {
       "version_major": 2,
       "version_minor": 0,
       "model_id": "ff6cb8dceccc4965a15d36ea184d239f"
      }
     },
     "metadata": {},
     "output_type": "display_data"
    },
    {
     "data": {
      "text/plain": "Validation: 0it [00:00, ?it/s]",
      "application/vnd.jupyter.widget-view+json": {
       "version_major": 2,
       "version_minor": 0,
       "model_id": "dfa4edb46c4146648316021dd27bd390"
      }
     },
     "metadata": {},
     "output_type": "display_data"
    },
    {
     "data": {
      "text/plain": "Validation: 0it [00:00, ?it/s]",
      "application/vnd.jupyter.widget-view+json": {
       "version_major": 2,
       "version_minor": 0,
       "model_id": "2f54da058f4f48f0b65d96eeb040a6d2"
      }
     },
     "metadata": {},
     "output_type": "display_data"
    },
    {
     "data": {
      "text/plain": "Validation: 0it [00:00, ?it/s]",
      "application/vnd.jupyter.widget-view+json": {
       "version_major": 2,
       "version_minor": 0,
       "model_id": "3773403b93624a90a4f73bf910a040d7"
      }
     },
     "metadata": {},
     "output_type": "display_data"
    },
    {
     "data": {
      "text/plain": "Validation: 0it [00:00, ?it/s]",
      "application/vnd.jupyter.widget-view+json": {
       "version_major": 2,
       "version_minor": 0,
       "model_id": "073c9ba51a294e0ca128feef339bb550"
      }
     },
     "metadata": {},
     "output_type": "display_data"
    },
    {
     "data": {
      "text/plain": "Validation: 0it [00:00, ?it/s]",
      "application/vnd.jupyter.widget-view+json": {
       "version_major": 2,
       "version_minor": 0,
       "model_id": "1a5961e9ea164194bffc0b1ba4dc7ad2"
      }
     },
     "metadata": {},
     "output_type": "display_data"
    },
    {
     "data": {
      "text/plain": "Validation: 0it [00:00, ?it/s]",
      "application/vnd.jupyter.widget-view+json": {
       "version_major": 2,
       "version_minor": 0,
       "model_id": "2f87d97ac7aa461b851978f9a8a3c213"
      }
     },
     "metadata": {},
     "output_type": "display_data"
    },
    {
     "data": {
      "text/plain": "Validation: 0it [00:00, ?it/s]",
      "application/vnd.jupyter.widget-view+json": {
       "version_major": 2,
       "version_minor": 0,
       "model_id": "04a1bc1e72714f5ca089efe2f91030a4"
      }
     },
     "metadata": {},
     "output_type": "display_data"
    },
    {
     "name": "stdout",
     "output_type": "stream",
     "text": [
      "Epoch 00082: reducing learning rate of group 0 to 1.0000e-04.\n"
     ]
    },
    {
     "data": {
      "text/plain": "Validation: 0it [00:00, ?it/s]",
      "application/vnd.jupyter.widget-view+json": {
       "version_major": 2,
       "version_minor": 0,
       "model_id": "386a12c18b29454ca9f44131daf037eb"
      }
     },
     "metadata": {},
     "output_type": "display_data"
    },
    {
     "data": {
      "text/plain": "Validation: 0it [00:00, ?it/s]",
      "application/vnd.jupyter.widget-view+json": {
       "version_major": 2,
       "version_minor": 0,
       "model_id": "be8fe50372b94252a85f3e7a8d506e3d"
      }
     },
     "metadata": {},
     "output_type": "display_data"
    },
    {
     "data": {
      "text/plain": "Validation: 0it [00:00, ?it/s]",
      "application/vnd.jupyter.widget-view+json": {
       "version_major": 2,
       "version_minor": 0,
       "model_id": "b6609fd70b884f67b5eb7918463cebba"
      }
     },
     "metadata": {},
     "output_type": "display_data"
    },
    {
     "data": {
      "text/plain": "Validation: 0it [00:00, ?it/s]",
      "application/vnd.jupyter.widget-view+json": {
       "version_major": 2,
       "version_minor": 0,
       "model_id": "d9a7c006a12142ee85200eecb2e3e10f"
      }
     },
     "metadata": {},
     "output_type": "display_data"
    },
    {
     "data": {
      "text/plain": "Validation: 0it [00:00, ?it/s]",
      "application/vnd.jupyter.widget-view+json": {
       "version_major": 2,
       "version_minor": 0,
       "model_id": "692676c129814ea0a25c29a7803ee51f"
      }
     },
     "metadata": {},
     "output_type": "display_data"
    },
    {
     "data": {
      "text/plain": "Validation: 0it [00:00, ?it/s]",
      "application/vnd.jupyter.widget-view+json": {
       "version_major": 2,
       "version_minor": 0,
       "model_id": "06243dd9589a43028c434fbd3e6556fd"
      }
     },
     "metadata": {},
     "output_type": "display_data"
    },
    {
     "data": {
      "text/plain": "Validation: 0it [00:00, ?it/s]",
      "application/vnd.jupyter.widget-view+json": {
       "version_major": 2,
       "version_minor": 0,
       "model_id": "642917a3de84486280cdee13df840825"
      }
     },
     "metadata": {},
     "output_type": "display_data"
    },
    {
     "data": {
      "text/plain": "Validation: 0it [00:00, ?it/s]",
      "application/vnd.jupyter.widget-view+json": {
       "version_major": 2,
       "version_minor": 0,
       "model_id": "2573aa4327b24fbebacac3ecc3d38859"
      }
     },
     "metadata": {},
     "output_type": "display_data"
    },
    {
     "data": {
      "text/plain": "Validation: 0it [00:00, ?it/s]",
      "application/vnd.jupyter.widget-view+json": {
       "version_major": 2,
       "version_minor": 0,
       "model_id": "a58d556b6674420dad282be7200af0b6"
      }
     },
     "metadata": {},
     "output_type": "display_data"
    },
    {
     "data": {
      "text/plain": "Validation: 0it [00:00, ?it/s]",
      "application/vnd.jupyter.widget-view+json": {
       "version_major": 2,
       "version_minor": 0,
       "model_id": "8ec69805482440bfbbb372da03b8a581"
      }
     },
     "metadata": {},
     "output_type": "display_data"
    },
    {
     "name": "stdout",
     "output_type": "stream",
     "text": [
      "Epoch 00092: reducing learning rate of group 0 to 1.0000e-05.\n"
     ]
    },
    {
     "data": {
      "text/plain": "Validation: 0it [00:00, ?it/s]",
      "application/vnd.jupyter.widget-view+json": {
       "version_major": 2,
       "version_minor": 0,
       "model_id": "f57a0c431656429fa7d72ea8a0235ed7"
      }
     },
     "metadata": {},
     "output_type": "display_data"
    }
   ],
   "source": [
    "trainer.fit(\n",
    "    net,\n",
    "    data_module\n",
    ")"
   ],
   "metadata": {
    "collapsed": false,
    "ExecuteTime": {
     "end_time": "2024-04-29T16:11:48.008994100Z",
     "start_time": "2024-04-29T16:06:49.621131800Z"
    }
   }
  },
  {
   "cell_type": "markdown",
   "source": [
    "Сохраняем"
   ],
   "metadata": {
    "collapsed": false
   }
  },
  {
   "cell_type": "code",
   "execution_count": 232,
   "outputs": [
    {
     "data": {
      "text/plain": "'models/dssmFinal.ckpt'"
     },
     "execution_count": 232,
     "metadata": {},
     "output_type": "execute_result"
    }
   ],
   "source": [
    "shutil.move(checkpoint_callback.best_model_path, \"models/dssmFinal.ckpt\")"
   ],
   "metadata": {
    "collapsed": false,
    "ExecuteTime": {
     "end_time": "2024-04-29T16:11:48.017501Z",
     "start_time": "2024-04-29T16:11:48.013000800Z"
    }
   }
  },
  {
   "cell_type": "markdown",
   "source": [
    "# PREDICT\n",
    "Загружаем модельку\n",
    "Достаем из неё векторные представления запросов и документов"
   ],
   "metadata": {
    "collapsed": false
   }
  },
  {
   "cell_type": "code",
   "execution_count": 233,
   "outputs": [],
   "source": [
    "best = DSSM.load_from_checkpoint(\"models/dssmFinal.ckpt\", doc_number=300000, embedding_dim=64)"
   ],
   "metadata": {
    "collapsed": false,
    "ExecuteTime": {
     "end_time": "2024-04-29T16:11:49.374053700Z",
     "start_time": "2024-04-29T16:11:48.019000800Z"
    }
   }
  },
  {
   "cell_type": "code",
   "execution_count": 234,
   "outputs": [],
   "source": [
    "doc_features = doc_features.sort_index()\n",
    "docs = torch.from_numpy(doc_features.index.values)\n",
    "inf_docs = torch.from_numpy(doc_features.values).double()\n",
    "docs_ds = td.TensorDataset(docs, inf_docs)"
   ],
   "metadata": {
    "collapsed": false,
    "ExecuteTime": {
     "end_time": "2024-04-29T16:11:49.425628800Z",
     "start_time": "2024-04-29T16:11:49.375561400Z"
    }
   }
  },
  {
   "cell_type": "code",
   "execution_count": 235,
   "outputs": [],
   "source": [
    "inf_dl_docs = td.DataLoader(docs_ds, batch_size=128, shuffle=False, num_workers=1)\n",
    "doc_ids, doc_embeddings = best.double().inference(inf_dl_docs)"
   ],
   "metadata": {
    "collapsed": false,
    "ExecuteTime": {
     "end_time": "2024-04-29T16:11:51.811349Z",
     "start_time": "2024-04-29T16:11:49.425628800Z"
    }
   }
  },
  {
   "cell_type": "code",
   "execution_count": 236,
   "outputs": [],
   "source": [
    "scaled_test['index'] = scaled_test.index.to_series()\n",
    "positives = scaled_test\n",
    "interactions = pd.pivot_table(scaled_test, values=\"rank\", index=\"query_id\", columns=\"index\").fillna(0)"
   ],
   "metadata": {
    "collapsed": false,
    "ExecuteTime": {
     "end_time": "2024-04-29T16:11:54.732809700Z",
     "start_time": "2024-04-29T16:11:51.814353600Z"
    }
   }
  },
  {
   "cell_type": "code",
   "execution_count": 237,
   "outputs": [],
   "source": [
    "interactions = interactions.sort_index()\n",
    "query_ids_inf = torch.from_numpy(interactions.index.values)\n",
    "query_inf_feat = torch.from_numpy(padded_query[interactions.index.values]).long()\n",
    "query_ds = td.TensorDataset(query_ids_inf, query_inf_feat)"
   ],
   "metadata": {
    "collapsed": false,
    "ExecuteTime": {
     "end_time": "2024-04-29T16:11:54.865907300Z",
     "start_time": "2024-04-29T16:11:54.734809100Z"
    }
   }
  },
  {
   "cell_type": "code",
   "execution_count": 238,
   "outputs": [],
   "source": [
    "inf_dl_queries = td.DataLoader(query_ds, batch_size=128, shuffle=False, num_workers=1)\n",
    "query_ids, query_embeddings = best.double().inference(inf_dl_queries, \"query\")"
   ],
   "metadata": {
    "collapsed": false,
    "ExecuteTime": {
     "end_time": "2024-04-29T16:11:54.977094300Z",
     "start_time": "2024-04-29T16:11:54.865407300Z"
    }
   }
  },
  {
   "cell_type": "code",
   "execution_count": 239,
   "outputs": [
    {
     "data": {
      "text/plain": "((235258, 64), (1987, 64))"
     },
     "execution_count": 239,
     "metadata": {},
     "output_type": "execute_result"
    }
   ],
   "source": [
    "doc_embeddings.shape, query_embeddings.shape"
   ],
   "metadata": {
    "collapsed": false,
    "ExecuteTime": {
     "end_time": "2024-04-29T16:11:54.982596100Z",
     "start_time": "2024-04-29T16:11:54.980095600Z"
    }
   }
  },
  {
   "cell_type": "code",
   "execution_count": 249,
   "outputs": [],
   "source": [
    "query_id_to_emb = dict()\n",
    "for i in range(len(query_ids)):\n",
    "    query_id_to_emb[query_ids[i]] = i"
   ],
   "metadata": {
    "collapsed": false,
    "ExecuteTime": {
     "end_time": "2024-04-29T16:12:43.956377600Z",
     "start_time": "2024-04-29T16:12:43.950364900Z"
    }
   }
  },
  {
   "cell_type": "markdown",
   "source": [
    "Т.к. модель напрямую не выдает скор для документов, мы возьмем за скор документа расстояние от вектора запроса до вектора этого документа (ну и преобразуем, чтобы скор до ближайшего был как можно больше)"
   ],
   "metadata": {
    "collapsed": false
   }
  },
  {
   "cell_type": "code",
   "execution_count": 242,
   "outputs": [],
   "source": [
    "def predict(doc_embeddings, query_embeddings, query_id_to_emb, df):\n",
    "    distances = []\n",
    "\n",
    "    query_embedding = query_embeddings[query_id_to_emb[df['query_id'].iloc[0]]]\n",
    "    for index, _ in df.iterrows():\n",
    "        doc_emb = doc_embeddings[index]\n",
    "        distances.append(np.linalg.norm(doc_emb - query_embedding))\n",
    "    distances = np.array(distances)\n",
    "    distances = distances.max() - distances\n",
    "    return distances\n"
   ],
   "metadata": {
    "collapsed": false,
    "ExecuteTime": {
     "end_time": "2024-04-29T16:11:55.076676900Z",
     "start_time": "2024-04-29T16:11:55.069171400Z"
    }
   }
  },
  {
   "cell_type": "code",
   "execution_count": 243,
   "outputs": [
    {
     "data": {
      "text/plain": "query_id\n10       [0.09616305751808518, 0.3560776439293001, 1.08...\n25       [1.9165818353036834, 1.904982917081322, 0.9706...\n40       [2.840935658087939, 0.34478129959519066, 2.744...\n55       [0.0, 2.645722919893572, 2.101561207774747, 2....\n70       [1.5151593127372252, 3.0510110351294664, 1.100...\n                               ...                        \n29935    [5.426363305170114, 4.855221033556867, 3.29529...\n29950    [3.2299465247145065, 1.3555846269336085, 2.358...\n29965    [2.5011508517245833, 4.664832656723473, 2.5435...\n29980    [1.2815959738161773, 0.6006971066722882, 2.324...\n29995    [2.345748551133193, 1.3516571457445572, 0.0, 0...\nLength: 1987, dtype: object"
     },
     "execution_count": 243,
     "metadata": {},
     "output_type": "execute_result"
    }
   ],
   "source": [
    "predictions = scaled_test.groupby('query_id').apply(\n",
    "    lambda x: predict(doc_embeddings, query_embeddings, query_id_to_emb, x))\n",
    "predictions"
   ],
   "metadata": {
    "collapsed": false,
    "ExecuteTime": {
     "end_time": "2024-04-29T16:11:55.861078900Z",
     "start_time": "2024-04-29T16:11:55.076676900Z"
    }
   }
  },
  {
   "cell_type": "markdown",
   "source": [
    "# RESULT"
   ],
   "metadata": {
    "collapsed": false
   }
  },
  {
   "cell_type": "code",
   "execution_count": 244,
   "outputs": [],
   "source": [
    "y_true = scaled_test.groupby('query_id').apply(lambda x: [x.loc[i]['rank'] for i in x.index])"
   ],
   "metadata": {
    "collapsed": false,
    "ExecuteTime": {
     "end_time": "2024-04-29T16:11:58.020466Z",
     "start_time": "2024-04-29T16:11:55.860578100Z"
    }
   }
  },
  {
   "cell_type": "code",
   "execution_count": 245,
   "outputs": [],
   "source": [
    "from sklearn.metrics import ndcg_score\n",
    "\n",
    "\n",
    "def ndcg(k=None):\n",
    "    return lambda y_true, y_pred: ndcg_score([y_true], [y_pred], k=k)\n",
    "\n",
    "\n",
    "from sklearn.metrics import precision_score\n",
    "\n",
    "\n",
    "def precision_at_k(k=None):\n",
    "    return lambda y_true, y_pred: precision_at_k_func(y_true, y_pred, k=k)\n",
    "\n",
    "\n",
    "def precision_at_k_func(y_true, y_pred, k=None):\n",
    "    if k and len(y_pred) > k:\n",
    "        y_pred = y_pred[:k]\n",
    "\n",
    "    score = 0.0\n",
    "    num_hits = 0.0\n",
    "\n",
    "    for i, p in enumerate(y_pred):\n",
    "        if p in y_true and p not in y_pred[:i]:\n",
    "            num_hits += 1.0\n",
    "            score += num_hits / (i + 1.0)\n",
    "\n",
    "    if not y_true:\n",
    "        return 0.0\n",
    "    if k:\n",
    "        return score / min(len(y_true), k)\n",
    "    return score / len(y_true)\n",
    "\n",
    "\n",
    "def score(y_true, y_predictions, metric=precision_score):\n",
    "    res = []\n",
    "    for i, y_pred in enumerate(y_predictions):\n",
    "        if len(y_pred) > 1:\n",
    "            res.append(metric(y_true.iloc[i], y_pred))\n",
    "    return sum(res) / len(res)\n"
   ],
   "metadata": {
    "collapsed": false,
    "ExecuteTime": {
     "end_time": "2024-04-29T16:11:58.040479Z",
     "start_time": "2024-04-29T16:11:58.024970400Z"
    }
   }
  },
  {
   "cell_type": "markdown",
   "source": [
    "Как и для XGBRanker оценки надо перевести в видо от 0 до 4"
   ],
   "metadata": {
    "collapsed": false
   }
  },
  {
   "cell_type": "code",
   "execution_count": 246,
   "outputs": [
    {
     "data": {
      "text/plain": "query_id\n10        [0, 1, 2, 3, 0, 3, 2, 1, 2, 2, 1, 2, 4, 1, 0, 2]\n25                          [3, 3, 2, 3, 2, 3, 4, 4, 0, 3]\n40       [4, 0, 4, 3, 3, 0, 1, 2, 1, 2, 2, 4, 3, 1, 2, ...\n55                                [0, 3, 2, 3, 3, 3, 4, 1]\n70       [2, 3, 1, 1, 3, 2, 3, 1, 2, 1, 2, 1, 3, 2, 1, ...\n                               ...                        \n29935     [4, 4, 2, 3, 4, 0, 1, 2, 3, 3, 3, 3, 2, 2, 3, 3]\n29950    [3, 1, 2, 3, 4, 1, 0, 1, 1, 4, 4, 2, 2, 2, 4, ...\n29965                 [2, 4, 2, 2, 0, 1, 2, 2, 2, 3, 1, 3]\n29980                       [2, 1, 3, 2, 2, 3, 3, 0, 4, 2]\n29995    [3, 2, 0, 1, 2, 4, 1, 3, 3, 1, 2, 3, 3, 2, 3, ...\nLength: 1987, dtype: object"
     },
     "execution_count": 246,
     "metadata": {},
     "output_type": "execute_result"
    }
   ],
   "source": [
    "def scale_and_transform(x, num_classes=5):\n",
    "    scaled_x = ((x - np.min(x)) / (np.max(x) - np.min(x))) * (num_classes - 1)\n",
    "\n",
    "    int_x = np.round(scaled_x).astype(int)\n",
    "\n",
    "    return int_x\n",
    "\n",
    "\n",
    "predictionsScaled = predictions.copy()\n",
    "predictionsScaled = predictionsScaled.apply(scale_and_transform)\n",
    "predictionsScaled"
   ],
   "metadata": {
    "collapsed": false,
    "ExecuteTime": {
     "end_time": "2024-04-29T16:11:58.070000700Z",
     "start_time": "2024-04-29T16:11:58.034479Z"
    }
   }
  },
  {
   "cell_type": "code",
   "execution_count": 247,
   "outputs": [],
   "source": [
    "def get_scores(y_true, y_pred):\n",
    "    res = dict()\n",
    "    res['ndcg@5'] = score(y_true, y_pred, ndcg(k=5))\n",
    "    res['ndcg@20'] = score(y_true, y_pred, ndcg(k=20))\n",
    "    res['ndcg'] = score(y_true, y_pred, ndcg())\n",
    "    res['precision@5'] = score(y_true, y_pred, precision_at_k(5))\n",
    "    res['precision@20'] = score(y_true, y_pred, precision_at_k(20))\n",
    "    res['precision'] = score(y_true, y_pred, precision_at_k())\n",
    "    return res"
   ],
   "metadata": {
    "collapsed": false,
    "ExecuteTime": {
     "end_time": "2024-04-29T16:11:58.071500800Z",
     "start_time": "2024-04-29T16:11:58.070000700Z"
    }
   }
  },
  {
   "cell_type": "code",
   "execution_count": 248,
   "outputs": [
    {
     "name": "stdout",
     "output_type": "stream",
     "text": [
      "Predictions\n",
      "{'ndcg@5': 0.4126087513977368, 'ndcg@20': 0.5834804520561023, 'ndcg': 0.651500585546478, 'precision@5': 0.03210474978795601, 'precision@20': 0.02078240286031312, 'precision': 0.020003542625106868}\n",
      "PredictionsScaled\n",
      "{'ndcg@5': 0.4057266459668763, 'ndcg@20': 0.5789703018974725, 'ndcg': 0.6481029152237677, 'precision@5': 0.3040600791631326, 'precision@20': 0.11683337819535812, 'precision': 0.09844804631940493}\n"
     ]
    }
   ],
   "source": [
    "print(\"Predictions\")\n",
    "print(get_scores(y_true, predictions))\n",
    "\n",
    "print(\"PredictionsScaled\")\n",
    "print(get_scores(y_true, predictionsScaled))"
   ],
   "metadata": {
    "collapsed": false,
    "ExecuteTime": {
     "end_time": "2024-04-29T16:12:00.835908800Z",
     "start_time": "2024-04-29T16:11:58.072502600Z"
    }
   }
  },
  {
   "cell_type": "markdown",
   "source": [
    "В сравнении с результатами других моделек можно уверенно сказать, что эта модель лучше всех ранжирует документы в списках \"средней\" длины\n",
    "Я это объясняю тем, что при задачи позитивных и негативных примеров не так сильно видна разница между \"соседними\" рангами (такие как 4 и 3, 0 и 1) и из-за этого у модели начинается путаница с тем, что должно стоять выше среди подходящих документов и среди совсем нерелевантных документов.\n",
    "Я считаю, что эту проблему вполне можно исправить при помощи более хитрового задания триплетов для обучения"
   ],
   "metadata": {
    "collapsed": false
   }
  },
  {
   "cell_type": "code",
   "execution_count": null,
   "outputs": [],
   "source": [],
   "metadata": {
    "collapsed": false
   }
  }
 ],
 "metadata": {
  "kernelspec": {
   "display_name": "Python 3",
   "language": "python",
   "name": "python3"
  },
  "language_info": {
   "codemirror_mode": {
    "name": "ipython",
    "version": 2
   },
   "file_extension": ".py",
   "mimetype": "text/x-python",
   "name": "python",
   "nbconvert_exporter": "python",
   "pygments_lexer": "ipython2",
   "version": "2.7.6"
  }
 },
 "nbformat": 4,
 "nbformat_minor": 0
}
